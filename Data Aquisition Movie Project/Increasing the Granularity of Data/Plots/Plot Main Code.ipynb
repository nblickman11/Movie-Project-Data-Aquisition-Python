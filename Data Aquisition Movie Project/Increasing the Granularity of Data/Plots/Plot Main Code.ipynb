{
 "cells": [
  {
   "cell_type": "markdown",
   "metadata": {},
   "source": [
    "# DSCI 511: Data Acquisition and Pre-Processing - Final Project <br> "
   ]
  },
  {
   "cell_type": "markdown",
   "metadata": {},
   "source": [
    "# 3. Increasing the Granularity of Data"
   ]
  },
  {
   "cell_type": "markdown",
   "metadata": {},
   "source": [
    "### <font size=\"4\">**3.3. Plots**<font>"
   ]
  },
  {
   "cell_type": "code",
   "execution_count": 2,
   "metadata": {},
   "outputs": [],
   "source": [
    "from bs4 import BeautifulSoup\n",
    "import urllib \n",
    "import requests\n",
    "import re\n",
    "from collections import defaultdict\n",
    "from collections import Counter\n",
    "import json"
   ]
  },
  {
   "cell_type": "markdown",
   "metadata": {},
   "source": [
    "The procedue to decompose taglines into their words can be similarly executed in a more detailed level by using synopsis of moveis, if they were made available by IMDB.\n",
    "\n",
    "In the following, we develope a script to store synopsis for a collection of 100 movies in a JSON file called \"plot_summary\". "
   ]
  },
  {
   "cell_type": "code",
   "execution_count": 12,
   "metadata": {},
   "outputs": [
    {
     "data": {
      "text/plain": [
       "776021"
      ]
     },
     "execution_count": 12,
     "metadata": {},
     "output_type": "execute_result"
    }
   ],
   "source": [
    "# Once again, we start by using the same beginning strucutre we used in our awards. (steps 1,2,3 below)\n",
    "\n",
    "\"https://www.imdb.com/title/tt5606664/plotsummary?ref_=tt_ql_stry_2\"\n",
    "i = 1\n",
    "\n",
    "\n",
    "    #1.  loops through 100 movies since range is range(1,2)\n",
    "for item in range(1,2):\n",
    "    url = 'https://www.imdb.com/list/ls003495084/?sort=date_added,desc&st_dt=&mode=detail&page=' + str(item)\n",
    "    html_text = urllib.request.urlopen(url).read()\n",
    "    soup = BeautifulSoup(html_text, 'html.parser')\n",
    "\n",
    "    # 2.  gets 1,000 movie links\n",
    "    movies={}\n",
    "    for x in soup.find_all('a'):\n",
    "        if x.get(\"href\") is not None:\n",
    "            if re.search('^/title/tt', x['href']) and x.text!=' \\n':\n",
    "                movies[x.text]={'link':'https://www.imdb.com/'+x['href']}     \n",
    "    \n",
    "    # 3.  gets the movie numbers out of every link. \n",
    "    movie_numbers = []\n",
    "    for key, dictionary in movies.items():\n",
    "        for values in dictionary.values():\n",
    "            movie_number = re.search(\"[0-9]+\", values)\n",
    "            movie_numbers.append(movie_number.group(0))\n",
    "    \n",
    "    Plots = {}\n",
    "\n",
    "    #4. Iterate through 1,000 movies, put each plot into a dictionary, and create one big nested dictionary. \n",
    "    c = 1\n",
    "    for number in movie_numbers:\n",
    "        def get_url(M):\n",
    "            return urllib.request.urlopen(\"https://www.imdb.com/title/tt\" + M + \"/plotsummary?ref_=tt_ql_stry_2\").read()\n",
    "\n",
    "        html_text = get_url(number)    \n",
    "        movie = BeautifulSoup(html_text, 'html.parser')\n",
    "    \n",
    "        plots = movie.find_all(\"li\", {'class' : \"ipl-zebra-list__item\"})\n",
    "        for plot in plots:\n",
    "            Plots.update({str(c):plot.text})\n",
    "        c += 1\n",
    "\n",
    "# Lets dump our nested dictionary, Plots, into a JSON object.\n",
    "file = open(\"plot_summary.json\", \"w\")\n",
    "counter_ds = json.dumps(Plots)\n",
    "file.write(counter_ds)"
   ]
  }
 ],
 "metadata": {
  "kernelspec": {
   "display_name": "Python 3",
   "language": "python",
   "name": "python3"
  },
  "language_info": {
   "codemirror_mode": {
    "name": "ipython",
    "version": 3
   },
   "file_extension": ".py",
   "mimetype": "text/x-python",
   "name": "python",
   "nbconvert_exporter": "python",
   "pygments_lexer": "ipython3",
   "version": "3.7.4"
  }
 },
 "nbformat": 4,
 "nbformat_minor": 2
}
