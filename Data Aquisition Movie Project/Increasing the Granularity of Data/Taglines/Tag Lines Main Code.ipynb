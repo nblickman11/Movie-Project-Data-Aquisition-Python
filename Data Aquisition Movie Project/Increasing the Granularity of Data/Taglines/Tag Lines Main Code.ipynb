{
 "cells": [
  {
   "cell_type": "markdown",
   "metadata": {},
   "source": [
    "# DSCI 511: Data Acquisition and Pre-Processing - Final Project <br> "
   ]
  },
  {
   "cell_type": "markdown",
   "metadata": {},
   "source": [
    "# 3. Increasing the Granularity of Data"
   ]
  },
  {
   "cell_type": "markdown",
   "metadata": {},
   "source": [
    "<font size=\"4\">**3.2. Taglines**<font>"
   ]
  },
  {
   "cell_type": "code",
   "execution_count": 2,
   "metadata": {},
   "outputs": [],
   "source": [
    "from bs4 import BeautifulSoup\n",
    "import urllib \n",
    "import requests\n",
    "import re\n",
    "from collections import defaultdict\n",
    "from collections import Counter\n",
    "import json"
   ]
  },
  {
   "cell_type": "markdown",
   "metadata": {},
   "source": [
    "One may be interested in finding similarity between taglines and making connection between them and other attributes for analysis purposes. \n",
    "\n",
    "In the following, we develope a script to store taglines for a collection of 100 movies in a JSON file called \"tag_lines\". "
   ]
  },
  {
   "cell_type": "code",
   "execution_count": 14,
   "metadata": {},
   "outputs": [
    {
     "data": {
      "text/plain": [
       "24054"
      ]
     },
     "execution_count": 14,
     "metadata": {},
     "output_type": "execute_result"
    }
   ],
   "source": [
    "#\"https://www.imdb.com/title/tt5606664/taglines?ref_=tt_ql_stry_1\"\n",
    "\n",
    "i = 1\n",
    "for item in range(1,3):\n",
    "    url = 'https://www.imdb.com/list/ls003495084/?sort=date_added,desc&st_dt=&mode=detail&page=' + str(item)\n",
    "    html_text = urllib.request.urlopen(url).read()\n",
    "    soup = BeautifulSoup(html_text, 'html.parser')\n",
    "\n",
    "    movies={}\n",
    "    for x in soup.find_all('a'):\n",
    "        if x.get(\"href\") is not None:\n",
    "            if re.search('^/title/tt', x['href']) and x.text!=' \\n':\n",
    "                movies[x.text]={'link':'https://www.imdb.com/'+x['href']}     \n",
    "    \n",
    "    movie_numbers = []\n",
    "    for key, dictionary in movies.items():\n",
    "        for values in dictionary.values():\n",
    "            movie_number = re.search(\"[0-9]+\", values)\n",
    "            movie_numbers.append(movie_number.group(0))\n",
    "    \n",
    "    tags_d = {}\n",
    "    c = 1\n",
    "    for number in movie_numbers:\n",
    "        def get_url(M):\n",
    "            return urllib.request.urlopen(\"https://www.imdb.com/title/tt\" + M + \"/taglines?ref_=tt_ql_stry_1\").read()\n",
    "\n",
    "        html_text = get_url(number)    \n",
    "        movie = BeautifulSoup(html_text, 'html.parser')\n",
    "        \n",
    "        t_lis = []\n",
    "        \n",
    "        tags1 = movie.find_all(\"div\", {'class' : \"soda odd\"})\n",
    "        tags2 = movie.find_all(\"div\", {'class' : \"soda even\"})\n",
    "        \n",
    "        for tag in tags1:\n",
    "            t_lis.append(tag.text)\n",
    "        for tag in tags2:\n",
    "            t_lis.append(tag.text)\n",
    "            \n",
    "        tags_d.update({str(c):t_lis})\n",
    "        c += 1       \n",
    "\n",
    "file = open(\"tag_lines.json\", \"w\")\n",
    "counter_ds = json.dumps(tags_d)\n",
    "file.write(counter_ds)"
   ]
  }
 ],
 "metadata": {
  "kernelspec": {
   "display_name": "Python 3",
   "language": "python",
   "name": "python3"
  },
  "language_info": {
   "codemirror_mode": {
    "name": "ipython",
    "version": 3
   },
   "file_extension": ".py",
   "mimetype": "text/x-python",
   "name": "python",
   "nbconvert_exporter": "python",
   "pygments_lexer": "ipython3",
   "version": "3.7.4"
  }
 },
 "nbformat": 4,
 "nbformat_minor": 2
}
