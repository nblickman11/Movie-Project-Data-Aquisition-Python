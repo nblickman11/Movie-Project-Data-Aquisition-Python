{
 "cells": [
  {
   "cell_type": "markdown",
   "metadata": {},
   "source": [
    "# DSCI 511: Data Acquisition and Pre-Processing - Final Project <br> "
   ]
  },
  {
   "cell_type": "markdown",
   "metadata": {},
   "source": [
    "# 4. Alternative Approaches"
   ]
  },
  {
   "cell_type": "markdown",
   "metadata": {},
   "source": [
    "### <font size=\"4\">**4.1. Release Dates, Movie Lenghts, and Movie Ratings**<font>"
   ]
  },
  {
   "cell_type": "code",
   "execution_count": 1,
   "metadata": {},
   "outputs": [],
   "source": [
    "from bs4 import BeautifulSoup\n",
    "import urllib \n",
    "import requests\n",
    "import re\n",
    "from collections import defaultdict"
   ]
  },
  {
   "cell_type": "markdown",
   "metadata": {},
   "source": [
    "Presented below is an alternative way to pull the information for Release Dates, Movie Lenghts, and Movie Ratings from 1,000 movies (some movie info unreported) as suggested earlier by Pandas Data Frame in Chapter 2.\n",
    "\n",
    " - Our data frame seems optimal regarding this information, as it pulls the associated movie titles, which is important to have when a bit of missing data exists.\n",
    "\n",
    " - It also needs to be mentioned that 90% of the information on these particular topics was pulled because a few movies did not have pertinent information, as discussed in chapter 2 as a limitation which was addressed by using Pandas Data Frame."
   ]
  },
  {
   "cell_type": "code",
   "execution_count": 3,
   "metadata": {},
   "outputs": [
    {
     "name": "stdout",
     "output_type": "stream",
     "text": [
      "['(2005)', '(2003)', '(2019)', '(1980)', '(2019)', '(2009)', '(2019)', '(I) (2017)', '(2019)', '(2016)', '(2020)', '(2016)', '(2013)', '(2019)', '(2017)', '(I) (2014)', '(2019)', '(2010)', '(1999)', '(1995)', '(2019)', '(2014)', '(2010)', '(2014)', '(2005)', '(2003)', '(1995)', '(1992)', '(2021)', '(2019)', '(2017)', '(2022)', '(2019)', '(2017)', '(2014)', '(2019)', '(2017)', '(2019)', '(2016)', '(2022)', '(2021)', '(2018)', '(2015)', '(2011)', '(2006)', '(2000)', '(1996)', '(2019)', '(2017)', '(2017)', '(2011)', '(2006)', '(2018)', '(2011)', '(2003)', '(2018)', '(2012)', '(2018)', '(2004)', '(2018)', '(2008)', '(2018)', '(2015)', '(2012)', '(1994)', '(1994)', '(1993)', '(2020)', '(2017)', '(2014)', '(2018)', '(2015)', '(2014)', '(2017)', '(2011)', '(2020)', '(2017)', '(2014)', '(2017)', '(2013)', '(2010)', '(2014)', '(2003)', '(1994)', '', '(1990)', '(1984)', '', '(2016)', '(2013)', '(2009)', '(2017)', '(2014)', '(2011)', '(2017)', '(I) (2012)', '(2021)', '(2017)', '(2014)', '(2017)', '(1982)', '(2017)', '(1996)', '(2011 Video)', '(2002)', '(1986)', '(1961)', '(2019)', '(IX) (2016)', '(2000)', '(2016)', '(1996)', '(2016)', '(I) (2010)', '(2016)', '(2001)', '(2016)', '(2014)', '(I) (2013)', '(2018)', '(2016)', '(2016)', '(2014)', '(2011)', '(2017)', '(2013)', '(2011)', '(2019)', '(2018)', '(2015)', '(2012)', '', '(2017)', '(2016)', '(2013)', '(2016)', '(2002)', '(2016)', '(2013)', '(2016)', '(2008)', '(1987)', '(1983)', '(2014)', '(2012)', '(I) (2008)', '(2009)', '(1992)', '(2016)', '(2003)', '(1990)', '(1988)', '(1966)', '(1965)', '(1964)', '(2010)', '(1987)', '(2014)', '(2013)', '(2012)', '(1944)', '(1942)', '(2014)', '(2011)', '(2006)', '(1994)', '(1988)', '(1986)', '(1982)', '(2015)', '(2012)', '(2016)', '(2011)', '(2010 Video)', '(2007)', '(1984)', '(1977)', '(II) (2012)', '(I) (2009)', '(2013)', '(2010)', '(2007)', '(2006)', '(2012)', '(2010)', '(2010 Video)', '(I) (2008)', '(1998)', '(1994)', '(1989)', '(2009 Video)', '(2000)', '(2013)', '(2010)', '', '(2008)', '(2017)', '(2013)', '(2004)', '(1998)', '(1991)', '(1990)', '(1988)', '(2013 Video)', '(2011)', '(1988)', '(1985)', '(2000 TV Movie)', '(1999 Video)', '(2006 Video)', '(2006 Video)', '(2005 Video)', '(1993)', '(1967)', '(1965)', '(1964)', '(1998)', '(1980)', '(1997)', '(1981)', '(2012)', '(2011)', '(2014)', '(2013)', '(2012)', '(2014)', '(2012)', '(2009)', '(2007)', '(2011)', '(2008)', '(2009)', '(2005)', '(2014)', '(2011)', '(2015)', '(2009)', '(2015)', '(2010)', '(2014)', '(2011)', '(1992)', '(1991)', '(1988)', '(1986)', '(2009 Video)', '(2005)', '(2014)', '(2012)', '(2014)', '(2013)', '(1999)', '(1981)', '(1984)', '(1979)', '(2014)', '(2011)', '(2016)', '(2014)', '(2001)', '(1999)', '(2015)', '(2014)', '(2013)', '(2012)', '(2018)', '(2014)', '(2016)', '(2014)', '(2017)', '(2014)', '(2004 Video)', '(2001 Video)', '(1996 Video)', '(1990)', '(2012)', '(2008)', '(2002)', '(1999)', '(2013)', '(2004)', '(1995)', '(1996)', '(2013)', '(2004)', '(1993)', '(1992)', '(1988)', '(1985)', '(2012)', '(1991)', '(1986)', '(2013)', '(2004)', '(2000)', '(1996)', '(2004)', '(2003)', '', '(2013)', '(1999)', '(2014)', '(I) (2010)', '(2014)', '(2012)', '(2015)', '(2013)', '(2019)', '(2014)', '(2013)', '(2013)', '(2015)', '(2011)', '(2014 Video)', '(2005)', '(2014)', '(2011)', '(2016)', '(2015)', '(2014)', '(2014)', '(2010)', '(2015)', '(2013)', '(I) (2010)', '(2013 Video)', '(2013)', '(2009)', '(2014 Video)', '(2012)', '(2004)', '(2002)', '(1997)', '(2014)', '(2011)', '(2007)', '(2011)', '(2007 Video)', '(2005)', '(2008 Video)', '(2005)', '(2009)', '(2009)', '(2009)', '(2005 Video)', '(1999)', '(1998)', '(1996)', '(2014)', '(2012)', '', '(2013)', '(2010)', '(2014)', '(2012)', '(2012)', '(2008)', '(2010 Video)', '(2006 Video)', '(2002)', '(2006)', '(1992)', '(2002)', '(1998)', '(1996)', '(1994)', '(1991)', '(1989)', '(1986)', '(1984)', '(1982)', '(1979)', '(2011)', '(2009)', '', '(2007)', '(2004)', '(2009 Video)', '(1995)', '(2005)', '(2000)', '(2007)', '(2003)', '(2000)', '(I) (1998)', '(2009)', '(2004)', '(2016)', '(2003)', '(2008)', '(2005)', '(2005 Video)', '(2002)', '(2009 TV Movie)', '(2009 TV Movie)', '(2009 TV Movie)', '(2008)', '(2015)', '(2012)', '(1988)']\n",
      "\n",
      "\n",
      "\n",
      "\n",
      "['139 min', '178 min', '152 min', '146 min', '99 min', '88 min', '169 min', '135 min', '97 min', '97 min', '134 min', '112 min', '106 min', '109 min', '99 min', '100 min', '103 min', '92 min', '81 min', '104 min', '102 min', '98 min', '102 min', '124 min', '102 min', '104 min', '81 min', '129 min', '133 min', '130 min', '122 min', '101 min', '109 min', '100 min', '86 min', '87 min', '147 min', '131 min', '132 min', '126 min', '123 min', '110 min', '100 min', '96 min', '102 min', '106 min', '117 min', '89 min', '101 min', '87 min', '112 min', '101 min', '118 min', '115 min', '114 min', '108 min', '97 min', '89 min', '91 min', '99 min', '92 min', '94 min', '103 min', '95 min', '143 min', '131 min', '113 min', '101 min', '92 min', '141 min', '129 min', '89 min', '98 min', '95 min', '109 min', '85 min', '107 min', '106 min', '106 min', '122 min', '132 min', '127 min', '140 min', '130 min', '105 min', '122 min', '124 min', '136 min', '121 min', '164 min', '117 min', '117 min', '93 min', '113 min', '104 min', '119 min', '134 min', '129 min', '117 min', '106 min', '120 min', '145 min', '113 min', '108 min', '101 min', '90 min', '108 min', '103 min', '85 min', '119 min', '108 min', '147 min', '136 min', '124 min', '130 min', '112 min', '115 min', '181 min', '149 min', '141 min', '143 min', '120 min', '151 min', '143 min', '94 min', '95 min', '99 min', '119 min', '103 min', '85 min', '101 min', '105 min', '108 min', '92 min', '90 min', '122 min', '96 min', '97 min', '100 min', '104 min', '107 min', '178 min', '132 min', '99 min', '133 min', '126 min', '144 min', '161 min', '169 min', '70 min', '73 min', '150 min', '101 min', '97 min', '92 min', '98 min', '91 min', '114 min', '115 min', '106 min', '98 min', '93 min', '92 min', '113 min', '86 min', '90 min', '82 min', '90 min', '106 min', '108 min', '89 min', '107 min', '83 min', '88 min', '86 min', '110 min', '100 min', '105 min', '107 min', '94 min', '107 min', '98 min', '105 min', '110 min', '91 min', '97 min', '87 min', '89 min', '90 min', '84 min', '87 min', '100 min', '106 min', '104 min', '106 min', '97 min', '93 min', '86 min', '88 min', '100 min', '144 min', '104 min', '94 min', '100 min', '123 min', '133 min', '105 min', '97 min', '95 min', '92 min', '81 min', '96 min', '116 min', '95 min', '80 min', '85 min', '78 min', '86 min', '89 min', '94 min', '99 min', '108 min', '98 min', '94 min', '91 min', '93 min', '101 min', '107 min', '113 min', '87 min', '86 min', '86 min', '86 min', '92 min', '110 min', '106 min', '122 min', '86 min', '86 min', '87 min', '97 min', '94 min', '95 min', '107 min', '103 min', '102 min', '99 min', '104 min', '100 min', '137 min', '123 min', '146 min', '142 min', '121 min', '132 min', '112 min', '101 min', '154 min', '165 min', '101 min', '104 min', '100 min', '96 min', '110 min', '116 min', '107 min', '109 min', '109 min', '80 min', '101 min', '107 min', '110 min', '123 min', '104 min', '91 min', '101 min', '100 min', '109 min', '80 min', '88 min', '119 min', '94 min', '100 min', '103 min', '100 min', '102 min', '123 min', '120 min', '108 min', '112 min', '98 min', '95 min', '137 min', '130 min', '107 min', '100 min', '124 min', '117 min', '122 min', '124 min', '103 min', '125 min', '101 min', '96 min', '120 min', '119 min', '139 min', '119 min', '94 min', '97 min', '106 min', '103 min', '86 min', '95 min', '108 min', '91 min', '90 min', '97 min', '94 min', '90 min', '86 min', '96 min', '127 min', '79 min', '99 min', '95 min', '87 min', '96 min', '147 min', '129 min', '152 min', '106 min', '123 min', '101 min', '115 min', '112 min', '109 min', '107 min', '105 min', '142 min', '136 min', '100 min', '98 min', '96 min', '98 min', '94 min', '114 min', '127 min', '116 min', '103 min', '111 min', '118 min', '110 min', '107 min', '119 min', '105 min', '113 min', '132 min', '129 min', '128 min', '101 min', '115 min', '95 min', '108 min', '115 min', '109 min', '91 min', '84 min', '88 min', '86 min', '101 min', '84 min', '92 min', '92 min', '119 min', '119 min', '68 min', '85 min', '100 min', '93 min', '102 min', '88 min', '115 min', '110 min', '116 min']\n",
      "\n",
      "\n",
      "\n",
      "\n",
      "['Not Rated', 'R', 'R', 'R', 'R', 'R', 'R', 'R', 'PG', 'PG', 'R', 'R', 'R', 'R', 'R', 'G', 'G', 'G', 'G', 'PG', 'PG', 'PG', 'R', 'R', 'R', 'R', 'R', 'PG-13', 'PG-13', 'R', 'R', 'R', 'PG', 'PG', 'PG', 'PG', 'PG-13', 'PG-13', 'PG-13', 'PG-13', 'PG-13', 'PG-13', 'PG-13', 'PG-13', 'G', 'G', 'G', 'PG', 'PG', 'PG', 'PG', 'PG', 'PG', 'PG', 'PG-13', 'PG-13', 'PG', 'PG', 'PG', 'R', 'R', 'R', 'PG', 'PG', 'PG-13', 'PG-13', 'PG-13', 'R', 'R', 'R', 'R', 'PG', 'PG', 'PG', 'PG-13', 'PG-13', 'PG-13', 'PG-13', 'PG', 'PG-13', 'PG-13', 'PG-13', 'PG-13', 'PG-13', 'PG-13', 'R', 'R', 'PG-13', 'PG-13', 'R', 'R', 'R', 'R', 'PG-13', 'PG-13', 'R', 'Not Rated', 'PG-13', 'PG-13', 'PG-13', 'PG-13', 'PG-13', 'PG', 'PG', 'PG-13', 'PG-13', 'R', 'R', 'R', 'R', 'R', 'PG-13', 'PG-13', 'PG-13', 'PG-13', 'PG-13', 'PG-13', 'PG-13', 'PG-13', 'PG-13', 'PG-13', 'PG-13', 'PG-13', 'PG-13', 'PG-13', 'PG', 'R', 'R', 'PG-13', 'PG-13', 'PG-13', 'PG-13', 'PG-13', 'PG-13', 'PG-13', 'R', 'NC-17', 'PG', 'G', 'PG-13', 'R', 'R', 'R', 'R', 'PG-13', 'R', 'PG-13', 'PG-13', 'PG-13', 'Passed', 'Not Rated', 'R', 'R', 'R', 'R', 'PG-13', 'PG-13', 'PG', 'R', 'R', 'R', 'R', 'R', 'R', 'R', 'R', 'R', 'R', 'R', 'R', 'R', 'R', 'R', 'R', 'R', 'R', 'PG-13', 'PG', 'R', 'R', 'R', 'R', 'R', 'PG-13', 'R', 'R', 'R', 'R', 'R', 'R', 'R', 'R', 'R', 'R', 'R', 'R', 'R', 'R', 'R', 'R', 'R', 'PG', 'Not Rated', 'Not Rated', 'PG-13', 'R', 'R', 'R', 'Not Rated', 'Not Rated', 'R', 'R', 'R', 'R', 'R', 'R', 'R', 'R', 'R', 'R', 'R', 'R', 'R', 'PG', 'PG', 'R', 'R', 'PG', 'PG', 'PG-13', 'PG-13', 'PG-13', 'PG-13', 'Unrated', 'PG-13', 'PG-13', 'PG-13', 'R', 'R', 'G', 'G', 'G', 'G', 'PG', 'PG', 'PG-13', 'PG-13', 'PG-13', 'PG-13', 'PG-13', 'PG-13', 'PG-13', 'PG-13', 'R', 'R', 'PG-13', 'PG-13', 'PG-13', 'PG-13', 'PG-13', 'PG', 'PG-13', 'PG-13', 'Not Rated', 'PG', 'Not Rated', 'R', 'R', 'R', 'PG-13', 'Not Rated', 'R', 'R', 'R', 'PG-13', 'PG-13', 'PG-13', 'PG-13', 'R', 'PG-13', 'PG-13', 'G', 'G', 'PG', 'PG', 'R', 'R', 'Not Rated', 'Not Rated', 'PG-13', 'PG-13', 'PG-13', 'PG-13', 'PG', 'PG', 'Not Rated', 'Not Rated', 'PG', 'PG-13', 'R', 'R', 'G', 'G', 'PG-13', 'PG-13', 'PG-13', 'R', 'R', 'PG-13', 'PG-13', 'PG-13', 'R', 'R', 'PG-13', 'R', 'R', 'R', 'R', 'R', 'R', 'R', 'PG-13', 'R', 'R', 'R', 'PG-13', 'R', 'R', 'R', 'R', 'R', 'R', 'R', 'PG-13', 'R', 'R', 'R', 'R', 'PG-13', 'PG-13', 'R', 'R', 'R', 'R', 'R', 'R', 'R', 'PG-13', 'PG', 'PG-13', 'PG', 'PG', 'PG', 'PG', 'PG', 'PG', 'G', 'PG-13', 'PG-13', 'PG-13', 'PG-13', 'R', 'R', 'PG-13', 'PG-13', 'Not Rated', 'Not Rated', 'Not Rated', 'Not Rated', 'R', 'R', 'R', 'R', 'PG-13', 'PG', 'PG', 'PG', 'Not Rated', 'Not Rated', 'Not Rated', 'PG-13', 'R', 'R', 'PG']\n"
     ]
    }
   ],
   "source": [
    "release_dates = []\n",
    "movie_lengths = []\n",
    "movie_ratings = []\n",
    "\n",
    "\n",
    "for item in range(1,5):\n",
    "    url = 'https://www.imdb.com/list/ls003495084/?sort=date_added,desc&st_dt=&mode=detail&page=' + str(item)\n",
    "    html_text = urllib.request.urlopen(url).read()\n",
    "    soup = BeautifulSoup(html_text, 'html.parser')\n",
    "    lengths = soup.find_all('span', {'class' : \"runtime\"})\n",
    "    ratings = soup.find_all('span', {'class' : \"certificate\"})\n",
    "    years = soup.find_all('span', {'class' : 'lister-item-year text-muted unbold'})\n",
    "    for year in years:\n",
    "        release_dates.append(year.text)\n",
    "        \n",
    "    for length in lengths:\n",
    "        movie_lengths.append(length.text)\n",
    "    for rating in ratings:\n",
    "        movie_ratings.append(rating.text)\n",
    "\n",
    "print(release_dates)  \n",
    "print(\"\\n\\n\\n\")\n",
    "print(movie_lengths)\n",
    "print(\"\\n\\n\\n\")\n",
    "print(movie_ratings)"
   ]
  }
 ],
 "metadata": {
  "kernelspec": {
   "display_name": "Python 3",
   "language": "python",
   "name": "python3"
  },
  "language_info": {
   "codemirror_mode": {
    "name": "ipython",
    "version": 3
   },
   "file_extension": ".py",
   "mimetype": "text/x-python",
   "name": "python",
   "nbconvert_exporter": "python",
   "pygments_lexer": "ipython3",
   "version": "3.7.4"
  }
 },
 "nbformat": 4,
 "nbformat_minor": 2
}
